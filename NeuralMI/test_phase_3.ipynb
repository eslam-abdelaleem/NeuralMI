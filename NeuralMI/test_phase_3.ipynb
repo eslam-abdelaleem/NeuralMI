{
 "cells": [
  {
   "cell_type": "code",
   "execution_count": 1,
   "id": "722b1657-032b-45c9-827c-3c0ee59db734",
   "metadata": {},
   "outputs": [
    {
     "name": "stdout",
     "output_type": "stream",
     "text": [
      "--- Testing Phase 3 (Corrected Trainer) on cpu ---\n",
      "Created processed data with shape: torch.Size([196, 10, 100])\n",
      "------------------------------\n"
     ]
    }
   ],
   "source": [
    "# test_phase_3_corrected.ipynb\n",
    "\n",
    "import torch\n",
    "import torch.optim as optim\n",
    "import numpy as np\n",
    "import os\n",
    "import matplotlib.pyplot as plt\n",
    "\n",
    "# --- Import all library components ---\n",
    "from neural_mi.data.processors import ContinuousProcessor\n",
    "from neural_mi.models.embeddings import MLP\n",
    "from neural_mi.models.critics import SeparableCritic\n",
    "from neural_mi.training.trainer import Trainer\n",
    "from neural_mi.estimators import bounds # <-- Import the bounds module\n",
    "\n",
    "# --- Setup ---\n",
    "device = 'cpu'\n",
    "print(f\"--- Testing Phase 3 (Corrected Trainer) on {device} ---\")\n",
    "\n",
    "# --- 1. Generate and Process Data ---\n",
    "N_SAMPLES = 4000\n",
    "N_CHANNELS = 10\n",
    "WINDOW_SIZE = 100\n",
    "STEP_SIZE = 20\n",
    "\n",
    "base_signal = np.random.randn(1, N_SAMPLES)\n",
    "x_raw = np.repeat(base_signal, N_CHANNELS, axis=0) + np.random.randn(N_CHANNELS, N_SAMPLES) * 0.5\n",
    "y_raw = np.repeat(base_signal, N_CHANNELS, axis=0) + np.random.randn(N_CHANNELS, N_SAMPLES) * 0.5\n",
    "\n",
    "cont_proc = ContinuousProcessor(window_size=WINDOW_SIZE, step_size=STEP_SIZE)\n",
    "x_data = cont_proc.process(x_raw).to(device)\n",
    "y_data = cont_proc.process(y_raw).to(device)\n",
    "print(f\"Created processed data with shape: {x_data.shape}\")\n",
    "print(\"-\" * 30)"
   ]
  },
  {
   "cell_type": "code",
   "execution_count": 23,
   "id": "5f12b294-35c2-4017-82e7-5fa7defb766a",
   "metadata": {},
   "outputs": [
    {
     "name": "stdout",
     "output_type": "stream",
     "text": [
      "Model and optimizer created.\n",
      "------------------------------\n"
     ]
    }
   ],
   "source": [
    "# --- 2. Build Model and Optimizer ---\n",
    "INPUT_DIM = x_data.shape[1] * x_data.shape[2]\n",
    "critic = SeparableCritic(\n",
    "    embedding_net_x=MLP(INPUT_DIM, 256, 64, 3),\n",
    "    embedding_net_y=MLP(INPUT_DIM, 256, 64, 3)\n",
    ")\n",
    "optimizer = optim.Adam(critic.parameters(), lr=1e-4)\n",
    "print(\"Model and optimizer created.\")\n",
    "print(\"-\" * 30)"
   ]
  },
  {
   "cell_type": "code",
   "execution_count": 24,
   "id": "4055d255-7234-4190-bfd2-065811b80b57",
   "metadata": {},
   "outputs": [
    {
     "name": "stdout",
     "output_type": "stream",
     "text": [
      "Starting corrected training...\n",
      "Epoch 1/200 | Test MI: 0.0142\n",
      "Epoch 2/200 | Test MI: 0.0160\n",
      "Epoch 3/200 | Test MI: 0.0178\n",
      "Epoch 4/200 | Test MI: 0.0197\n",
      "Epoch 5/200 | Test MI: 0.0217\n",
      "Epoch 6/200 | Test MI: 0.0237\n",
      "Epoch 7/200 | Test MI: 0.0257\n",
      "Epoch 8/200 | Test MI: 0.0278\n",
      "Epoch 9/200 | Test MI: 0.0300\n",
      "Epoch 10/200 | Test MI: 0.0321\n",
      "Epoch 11/200 | Test MI: 0.0341\n",
      "Epoch 12/200 | Test MI: 0.0362\n",
      "Epoch 13/200 | Test MI: 0.0385\n",
      "Epoch 14/200 | Test MI: 0.0408\n",
      "Epoch 15/200 | Test MI: 0.0433\n",
      "Epoch 16/200 | Test MI: 0.0460\n",
      "Epoch 17/200 | Test MI: 0.0489\n",
      "Epoch 18/200 | Test MI: 0.0514\n",
      "Epoch 19/200 | Test MI: 0.0540\n",
      "Epoch 20/200 | Test MI: 0.0567\n",
      "Epoch 21/200 | Test MI: 0.0593\n",
      "Epoch 22/200 | Test MI: 0.0619\n",
      "Epoch 23/200 | Test MI: 0.0647\n",
      "Epoch 24/200 | Test MI: 0.0676\n",
      "Epoch 25/200 | Test MI: 0.0706\n",
      "Epoch 26/200 | Test MI: 0.0737\n",
      "Epoch 27/200 | Test MI: 0.0768\n",
      "Epoch 28/200 | Test MI: 0.0798\n",
      "Epoch 29/200 | Test MI: 0.0826\n",
      "Epoch 30/200 | Test MI: 0.0853\n",
      "Epoch 31/200 | Test MI: 0.0879\n",
      "Epoch 32/200 | Test MI: 0.0904\n",
      "Epoch 33/200 | Test MI: 0.0928\n",
      "Epoch 34/200 | Test MI: 0.0951\n",
      "Epoch 35/200 | Test MI: 0.0974\n",
      "Epoch 36/200 | Test MI: 0.0996\n",
      "Epoch 37/200 | Test MI: 0.1015\n",
      "Epoch 38/200 | Test MI: 0.1032\n",
      "Epoch 39/200 | Test MI: 0.1046\n",
      "Epoch 40/200 | Test MI: 0.1058\n",
      "Epoch 41/200 | Test MI: 0.1068\n",
      "Epoch 42/200 | Test MI: 0.1076\n",
      "Epoch 43/200 | Test MI: 0.1083\n",
      "Epoch 44/200 | Test MI: 0.1089\n",
      "Epoch 45/200 | Test MI: 0.1095\n",
      "Epoch 46/200 | Test MI: 0.1101\n",
      "Epoch 47/200 | Test MI: 0.1105\n",
      "Epoch 48/200 | Test MI: 0.1109\n",
      "Epoch 49/200 | Test MI: 0.1112\n",
      "Epoch 50/200 | Test MI: 0.1114\n",
      "Epoch 51/200 | Test MI: 0.1116\n",
      "Epoch 52/200 | Test MI: 0.1118\n",
      "Epoch 53/200 | Test MI: 0.1120\n",
      "Epoch 54/200 | Test MI: 0.1122\n",
      "Epoch 55/200 | Test MI: 0.1123\n",
      "Epoch 56/200 | Test MI: 0.1125\n",
      "Epoch 57/200 | Test MI: 0.1126\n",
      "Epoch 58/200 | Test MI: 0.1127\n",
      "Epoch 59/200 | Test MI: 0.1127\n",
      "Epoch 60/200 | Test MI: 0.1128\n",
      "Epoch 61/200 | Test MI: 0.1128\n",
      "Epoch 62/200 | Test MI: 0.1127\n",
      "Epoch 63/200 | Test MI: 0.1127\n",
      "Epoch 64/200 | Test MI: 0.1127\n",
      "Epoch 65/200 | Test MI: 0.1127\n",
      "Epoch 66/200 | Test MI: 0.1127\n",
      "Epoch 67/200 | Test MI: 0.1127\n",
      "Epoch 68/200 | Test MI: 0.1128\n",
      "Epoch 69/200 | Test MI: 0.1129\n",
      "Epoch 70/200 | Test MI: 0.1130\n",
      "Epoch 71/200 | Test MI: 0.1131\n",
      "Epoch 72/200 | Test MI: 0.1132\n",
      "Epoch 73/200 | Test MI: 0.1133\n",
      "Epoch 74/200 | Test MI: 0.1133\n",
      "Epoch 75/200 | Test MI: 0.1133\n",
      "Epoch 76/200 | Test MI: 0.1133\n",
      "Epoch 77/200 | Test MI: 0.1133\n",
      "Epoch 78/200 | Test MI: 0.1132\n",
      "Epoch 79/200 | Test MI: 0.1131\n",
      "Epoch 80/200 | Test MI: 0.1131\n",
      "Epoch 81/200 | Test MI: 0.1130\n",
      "Epoch 82/200 | Test MI: 0.1129\n",
      "Epoch 83/200 | Test MI: 0.1128\n",
      "Early stopping triggered after 8 epochs.\n",
      "Best epoch identified: 75 (raw MI: 0.1133)\n",
      "Training finished.\n",
      "------------------------------\n"
     ]
    }
   ],
   "source": [
    "# --- 3. Instantiate and Run the Corrected Trainer ---\n",
    "N_EPOCHS = 200\n",
    "BATCH_SIZE = 256\n",
    "PATIENCE = 8\n",
    "MODEL_SAVE_PATH = \"my_best_mi_model.pt\"\n",
    "\n",
    "# --- KEY CHANGE: Pass the MI bound function to the Trainer ---\n",
    "trainer = Trainer(\n",
    "    model=critic,\n",
    "    estimator_fn=bounds.infonce_lower_bound, # <-- Pass the estimator function here\n",
    "    optimizer=optimizer\n",
    ")\n",
    "\n",
    "print(\"Starting corrected training...\")\n",
    "results = trainer.train(\n",
    "    x_data=x_data,\n",
    "    y_data=y_data,\n",
    "    n_epochs=N_EPOCHS,\n",
    "    batch_size=BATCH_SIZE,\n",
    "    patience=PATIENCE,\n",
    "    sigma=1.0,\n",
    "    median_window=5,\n",
    "    save_best_model_path=MODEL_SAVE_PATH\n",
    ")\n",
    "print(\"Training finished.\")\n",
    "print(\"-\" * 30)"
   ]
  },
  {
   "cell_type": "code",
   "execution_count": 25,
   "id": "335b1884-9a37-49ec-a6e0-98305ef292df",
   "metadata": {},
   "outputs": [
    {
     "name": "stdout",
     "output_type": "stream",
     "text": [
      "Verifying results...\n",
      "Final Train MI (from best model): 0.9706\n",
      "Final Test MI (from best model): 0.1133\n",
      "Best model successfully saved to 'my_best_mi_model.pt'\n",
      "Cleaned up saved model file.\n"
     ]
    },
    {
     "data": {
      "image/png": "[encoded data removed]",
      "text/plain": [
       "<Figure size 1000x500 with 1 Axes>"
      ]
     },
     "metadata": {},
     "output_type": "display_data"
    },
    {
     "name": "stdout",
     "output_type": "stream",
     "text": [
      "\n",
      "✅ Phase 3 (Corrected) test completed successfully!\n"
     ]
    }
   ],
   "source": [
    "# --- 4. Verify Results ---\n",
    "print(\"Verifying results...\")\n",
    "assert 'train_mi' in results and results['train_mi'] is not None\n",
    "assert 'test_mi' in results and results['test_mi'] is not None\n",
    "assert results['train_mi'] > 0, \"Final Train MI should be positive\"\n",
    "assert results['test_mi'] > 0, \"Final Test MI should be positive\"\n",
    "print(f\"Final Train MI (from best model): {results['train_mi']:.4f}\")\n",
    "print(f\"Final Test MI (from best model): {results['test_mi']:.4f}\")\n",
    "assert os.path.exists(MODEL_SAVE_PATH), \"Best model was not saved!\"\n",
    "print(f\"Best model successfully saved to '{MODEL_SAVE_PATH}'\")\n",
    "os.remove(MODEL_SAVE_PATH)\n",
    "print(\"Cleaned up saved model file.\")\n",
    "\n",
    "# Visualize the test curve\n",
    "plt.figure(figsize=(10, 5))\n",
    "plt.plot(results['test_mi_history'], 'o-', label='Test MI', alpha=0.6)\n",
    "plt.axvline(x=results['best_epoch'], color='k', linestyle='--', label=f'Best Epoch ({results[\"best_epoch\"]+1})')\n",
    "plt.title(\"Test MI Curve and Smoothing\")\n",
    "plt.xlabel(\"Epoch\")\n",
    "plt.ylabel(\"Mutual Information\")\n",
    "plt.legend()\n",
    "plt.grid(True)\n",
    "plt.show()\n",
    "\n",
    "print(\"\\n✅ Phase 3 (Corrected) test completed successfully!\")"
   ]
  },
  {
   "cell_type": "code",
   "execution_count": 27,
   "id": "d985e21f-9a31-4902-a33b-0143acc68a25",
   "metadata": {},
   "outputs": [
    {
     "data": {
      "text/plain": [
       "{'train_mi': 0.9706325531005859,\n",
       " 'test_mi': 0.1133413314819336,\n",
       " 'best_epoch': np.int64(74),\n",
       " 'test_mi_history': array([0.01611871, 0.01665963, 0.01795886, 0.01975339, 0.02169809,\n",
       "        0.02369058, 0.02573444, 0.02783354, 0.02995016, 0.03204715,\n",
       "        0.03414233, 0.0362863 , 0.03851961, 0.04087647, 0.04339907,\n",
       "        0.04606949, 0.04877434, 0.05142466, 0.05405834, 0.05670216,\n",
       "        0.05933333, 0.06198747, 0.06475559, 0.06766064, 0.07066371,\n",
       "        0.07372421, 0.07676864, 0.079716  , 0.08254022, 0.08524941,\n",
       "        0.08785778, 0.09036784, 0.09277625, 0.09510655, 0.09736783,\n",
       "        0.09949063, 0.10139172, 0.10304715, 0.10448132, 0.10570709,\n",
       "        0.10671933, 0.10755024, 0.10826212, 0.10890325, 0.10949151,\n",
       "        0.1100193 , 0.11047878, 0.11086616, 0.11117596, 0.1114141 ,\n",
       "        0.11161168, 0.11179919, 0.1119821 , 0.1121596 , 0.1123315 ,\n",
       "        0.11248308, 0.11259816, 0.1126761 , 0.11272149, 0.11273947,\n",
       "        0.11274127, 0.11273126, 0.11271092, 0.11269355, 0.11268861,\n",
       "        0.11269968, 0.11273674, 0.11280704, 0.11290479, 0.11301334,\n",
       "        0.11311475, 0.1131975 , 0.11325822, 0.11329564, 0.11330865,\n",
       "        0.11330076, 0.11326974, 0.11321287, 0.11313673, 0.11305432,\n",
       "        0.11297923, 0.11292696, 0.11290574])}"
      ]
     },
     "execution_count": 27,
     "metadata": {},
     "output_type": "execute_result"
    }
   ],
   "source": [
    "results"
   ]
  },
  {
   "cell_type": "code",
   "execution_count": null,
   "id": "64d26eb7-2378-4e2a-9db7-60cac2183718",
   "metadata": {},
   "outputs": [],
   "source": []
  }
 ],
 "metadata": {
  "kernelspec": {
   "display_name": "Python [conda env:base] *",
   "language": "python",
   "name": "conda-base-py"
  },
  "language_info": {
   "codemirror_mode": {
    "name": "ipython",
    "version": 3
   },
   "file_extension": ".py",
   "mimetype": "text/x-python",
   "name": "python",
   "nbconvert_exporter": "python",
   "pygments_lexer": "ipython3",
   "version": "3.12.11"
  }
 },
 "nbformat": 4,
 "nbformat_minor": 5
}
