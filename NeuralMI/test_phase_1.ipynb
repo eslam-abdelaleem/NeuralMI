{
 "cells": [
  {
   "cell_type": "code",
   "execution_count": 1,
   "id": "6d4fc2df-cdc2-4e6c-8074-c1fc3dc23f3d",
   "metadata": {},
   "outputs": [
    {
     "name": "stdout",
     "output_type": "stream",
     "text": [
      "Using device: mps\n"
     ]
    }
   ],
   "source": [
    "# test_phase_1_updated.ipynb\n",
    "\n",
    "import torch\n",
    "import os\n",
    "\n",
    "# --- Troubleshooting Step ---\n",
    "# If you are on macOS, run this in your terminal before starting jupyter:\n",
    "# export PYTORCH_ENABLE_MPS_FALLBACK=1\n",
    "# This can improve stability of the MPS backend.\n",
    "os.environ.setdefault('PYTORCH_ENABLE_MPS_FALLBACK', '1')\n",
    "\n",
    "# --- Import our new library components ---\n",
    "from neural_mi.utils.helpers import get_device\n",
    "from neural_mi.models.embeddings import MLP\n",
    "from neural_mi.models.critics import SeparableCritic\n",
    "from neural_mi.estimators import bounds\n",
    "\n",
    "# --- Control Flag for Testing ---\n",
    "# Set to True to force the test to run on the CPU.\n",
    "# This helps isolate library issues from MPS-specific hardware issues.\n",
    "test_on_cpu = False\n",
    "\n",
    "# --- Determine Device ---\n",
    "if test_on_cpu:\n",
    "    device = 'cpu'\n",
    "else:\n",
    "    device = get_device()\n",
    "    \n",
    "print(f\"Using device: {device}\")"
   ]
  },
  {
   "cell_type": "code",
   "execution_count": 2,
   "id": "deb3d21c-18b5-495d-8671-76a776f8df56",
   "metadata": {},
   "outputs": [],
   "source": [
    "# --- 1. Define Hyperparameters ---\n",
    "BATCH_SIZE = 64\n",
    "X_DIM = 100\n",
    "Y_DIM = 10\n",
    "HIDDEN_DIM = 128\n",
    "EMBED_DIM = 32\n",
    "N_LAYERS = 2"
   ]
  },
  {
   "cell_type": "code",
   "execution_count": null,
   "id": "0360dcb6-2420-48f8-855e-b004e76f91d9",
   "metadata": {},
   "outputs": [],
   "source": [
    "# --- 2. Create Dummy Data ---\n",
    "x_sample = torch.randn(BATCH_SIZE, X_DIM).to(device)\n",
    "y_sample = torch.randn(BATCH_SIZE, Y_DIM).to(device)\n",
    "print(\"Dummy data shapes:\")\n",
    "print(f\"X: {x_sample.shape} on {x_sample.device}\")\n",
    "print(f\"Y: {y_sample.shape} on {y_sample.device}\")\n",
    "print(\"-\" * 20)"
   ]
  },
  {
   "cell_type": "code",
   "execution_count": 4,
   "id": "0141237a-aa81-46a4-9e95-7e1f6095975c",
   "metadata": {},
   "outputs": [
    {
     "name": "stdout",
     "output_type": "stream",
     "text": [
      "Model built successfully.\n",
      "--------------------\n"
     ]
    }
   ],
   "source": [
    "# --- 3. Build the Model (Critic) ---\n",
    "# Ensure models are moved to the correct device\n",
    "embedding_x = MLP(input_dim=X_DIM, hidden_dim=HIDDEN_DIM, embed_dim=EMBED_DIM, n_layers=N_LAYERS).to(device)\n",
    "embedding_y = MLP(input_dim=Y_DIM, hidden_dim=HIDDEN_DIM, embed_dim=EMBED_DIM, n_layers=N_LAYERS).to(device)\n",
    "critic = SeparableCritic(embedding_net_x=embedding_x, embedding_net_y=embedding_y)\n",
    "print(\"Model built successfully.\")\n",
    "print(\"-\" * 20)"
   ]
  },
  {
   "cell_type": "code",
   "execution_count": 5,
   "id": "d9ad9c43-1cb5-4930-809e-b20f5842dae4",
   "metadata": {},
   "outputs": [
    {
     "name": "stdout",
     "output_type": "stream",
     "text": [
      "Scores matrix shape: torch.Size([64, 64]) on cpu\n",
      "--------------------\n"
     ]
    }
   ],
   "source": [
    "# --- 4. Get Scores Matrix ---\n",
    "scores = critic(x_sample, y_sample)\n",
    "print(f\"Scores matrix shape: {scores.shape} on {scores.device}\")\n",
    "assert scores.shape == (BATCH_SIZE, BATCH_SIZE)\n",
    "print(\"-\" * 20)"
   ]
  },
  {
   "cell_type": "code",
   "execution_count": 6,
   "id": "051c6090-0ad1-41fe-9cb9-cc84f94fc35f",
   "metadata": {},
   "outputs": [
    {
     "name": "stdout",
     "output_type": "stream",
     "text": [
      "Testing MI Bounds:\n",
      "  InfoNCE MI = -0.0002\n",
      "  NWJ MI     = -0.3105\n",
      "  TUBA MI    = -0.0090\n",
      "  JS-fGAN MI = -1.3902\n",
      "  SMILE MI   = -0.0038\n",
      "\n",
      "✅ All estimators ran successfully!\n"
     ]
    }
   ],
   "source": [
    "# --- 5. Run All MI Estimators ---\n",
    "# These functions should now correctly infer the device from the 'scores' tensor\n",
    "print(\"Testing MI Bounds:\")\n",
    "try:\n",
    "    mi_infonce = bounds.infonce_lower_bound(scores)\n",
    "    print(f\"  InfoNCE MI = {mi_infonce.item():.4f}\")\n",
    "\n",
    "    mi_nwj = bounds.nwj_lower_bound(scores)\n",
    "    print(f\"  NWJ MI     = {mi_nwj.item():.4f}\")\n",
    "    \n",
    "    mi_tuba = bounds.tuba_lower_bound(scores)\n",
    "    print(f\"  TUBA MI    = {mi_tuba.item():.4f}\")\n",
    "\n",
    "    mi_js = bounds.js_fgan_lower_bound(scores)\n",
    "    print(f\"  JS-fGAN MI = {mi_js.item():.4f}\")\n",
    "\n",
    "    mi_smile = bounds.smile_lower_bound(scores)\n",
    "    print(f\"  SMILE MI   = {mi_smile.item():.4f}\")\n",
    "    \n",
    "    print(\"\\n✅ All estimators ran successfully!\")\n",
    "except Exception as e:\n",
    "    print(f\"\\n❌ An error occurred: {e}\")"
   ]
  },
  {
   "cell_type": "code",
   "execution_count": null,
   "id": "88d3794f-c641-409e-8409-957dda67c38e",
   "metadata": {},
   "outputs": [],
   "source": []
  },
  {
   "cell_type": "code",
   "execution_count": null,
   "id": "41945533-4a7f-4ae5-9fd0-1513b89e44da",
   "metadata": {},
   "outputs": [],
   "source": []
  },
  {
   "cell_type": "code",
   "execution_count": null,
   "id": "d33fa022-d028-46ba-b9ea-56eef9e53b10",
   "metadata": {},
   "outputs": [],
   "source": []
  },
  {
   "cell_type": "code",
   "execution_count": null,
   "id": "62766be1-8f11-4f2c-b27d-799346067c36",
   "metadata": {},
   "outputs": [],
   "source": []
  },
  {
   "cell_type": "code",
   "execution_count": null,
   "id": "9ed98580-0332-4b4b-b4b0-9c14fac3acd3",
   "metadata": {},
   "outputs": [],
   "source": []
  },
  {
   "cell_type": "code",
   "execution_count": null,
   "id": "9c6cfa9d-4caa-4654-ae53-92ece0fa8ca7",
   "metadata": {},
   "outputs": [],
   "source": []
  },
  {
   "cell_type": "code",
   "execution_count": null,
   "id": "7f4bd9e7-9bdf-4a6c-8e08-4655a8a2b7fd",
   "metadata": {},
   "outputs": [],
   "source": []
  }
 ],
 "metadata": {
  "kernelspec": {
   "display_name": "Python [conda env:base] *",
   "language": "python",
   "name": "conda-base-py"
  },
  "language_info": {
   "codemirror_mode": {
    "name": "ipython",
    "version": 3
   },
   "file_extension": ".py",
   "mimetype": "text/x-python",
   "name": "python",
   "nbconvert_exporter": "python",
   "pygments_lexer": "ipython3",
   "version": "3.12.11"
  }
 },
 "nbformat": 4,
 "nbformat_minor": 5
}
