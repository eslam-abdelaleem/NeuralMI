{
 "cells": [
  {
   "cell_type": "markdown",
   "metadata": {},
   "source": [
    "# Example 3: Finding Hidden Signals (Latent Dimensionality)\n",
    "\n",
    "This notebook demonstrates how to use `NeuralMI` to estimate the **latent dimensionality** of a high-dimensional dataset, such as a recording from many neurons.\n",
    "\n",
    "**Goal:**\n",
    "1.  Introduce the concept of \"Internal Information\" ($I(X_A; X_B)$).\n",
    "2.  Use `run(mode='dimensionality')` to automate this analysis.\n",
    "3.  Generate data with a known `latent_dim` and see if we can recover it."
   ]
  },
  {
   "cell_type": "markdown",
   "metadata": {},
   "source": [
    "## 1. Imports"
   ]
  },
  {
   "cell_type": "code",
   "execution_count": 1,
   "metadata": {},
   "outputs": [],
   "source": [
    "import torch\n",
    "import numpy as np\n",
    "import neural_mi as nmi\n",
    "import matplotlib.pyplot as plt\n",
    "import seaborn as sns\n",
    "\n",
    "sns.set_context(\"talk\")"
   ]
  },
  {
   "cell_type": "markdown",
   "metadata": {},
   "source": [
    "## 2. Generating Data with a Known Latent Structure\n",
    "\n",
    "We'll use `generate_nonlinear_from_latent` to create a 50-dimensional dataset that is secretly driven by a 4-dimensional signal. Our goal is to recover this true dimensionality of 4. \n",
    "\n",
    "The raw data of shape `(n_samples, observed_dim)` must be transposed to `(observed_dim, n_samples)` to be used by the processor, where `observed_dim` is treated as the number of channels."
   ]
  },
  {
   "cell_type": "code",
   "execution_count": 13,
   "metadata": {},
   "outputs": [
    {
     "name": "stdout",
     "output_type": "stream",
     "text": [
      "Transposed X data shape: torch.Size([50, 10000])\n"
     ]
    }
   ],
   "source": [
    "# --- Dataset Parameters ---\n",
    "n_samples = 10000\n",
    "true_latent_dim = 3      # The ground truth we want to recover\n",
    "observed_dim = 50        # The number of \"neurons\" we observe\n",
    "mi_between_latents = 3.0 # Strength of correlation in the latent space\n",
    "\n",
    "# --- Generate Raw 2D Data ---\n",
    "x_raw, _ = nmi.datasets.generate_nonlinear_from_latent(\n",
    "    n_samples=n_samples, \n",
    "    latent_dim=true_latent_dim,\n",
    "    observed_dim=observed_dim,\n",
    "    mi=mi_between_latents\n",
    ")\n",
    "\n",
    "# Transpose from (samples, channels) to (channels, samples/timepoints)\n",
    "x_raw_transposed = x_raw.T\n",
    "\n",
    "print(f\"Transposed X data shape: {x_raw_transposed.shape}\")"
   ]
  },
  {
   "cell_type": "markdown",
   "metadata": {},
   "source": [
    "## 3. Running the Dimensionality Analysis\n",
    "\n",
    "The key idea is to see how the Internal Information changes as we vary the capacity of our MI model, which we do by sweeping over the `embedding_dim`. We expect the MI to plateau once `embedding_dim` is large enough to capture the true latent dimensionality. The location of this \"elbow\" is our estimate.\n",
    "\n",
    "`run(mode='dimensionality')` automates this entire process."
   ]
  },
  {
   "cell_type": "code",
   "execution_count": 14,
   "metadata": {
    "scrolled": true
   },
   "outputs": [
    {
     "name": "stdout",
     "output_type": "stream",
     "text": [
      "2025-10-03 17:57:33 - neural_mi - INFO - --- Running Split 1/10 ---\n",
      "2025-10-03 17:57:33 - neural_mi - INFO - Starting parameter sweep with 12 workers...\n"
     ]
    },
    {
     "data": {
      "application/vnd.jupyter.widget-view+json": {
       "model_id": "29e374869ea94ac194b71ae907fe195d",
       "version_major": 2,
       "version_minor": 0
      },
      "text/plain": [
       "Parameter Sweep Progress:   0%|          | 0/11 [00:00<?, ?task/s]"
      ]
     },
     "metadata": {},
     "output_type": "display_data"
    },
    {
     "name": "stderr",
     "output_type": "stream",
     "text": [
      "                                                                                                         "
     ]
    },
    {
     "name": "stdout",
     "output_type": "stream",
     "text": [
      "2025-10-03 17:57:48 - neural_mi - INFO - Parameter sweep finished.\n",
      "2025-10-03 17:57:48 - neural_mi - INFO - --- Running Split 2/10 ---\n",
      "2025-10-03 17:57:48 - neural_mi - INFO - Starting parameter sweep with 12 workers...\n"
     ]
    },
    {
     "data": {
      "application/vnd.jupyter.widget-view+json": {
       "model_id": "32da178cc4a84d6cb000582d793aa66e",
       "version_major": 2,
       "version_minor": 0
      },
      "text/plain": [
       "Parameter Sweep Progress:   0%|          | 0/11 [00:00<?, ?task/s]"
      ]
     },
     "metadata": {},
     "output_type": "display_data"
    },
    {
     "name": "stderr",
     "output_type": "stream",
     "text": [
      "                                                                                                          "
     ]
    },
    {
     "name": "stdout",
     "output_type": "stream",
     "text": [
      "2025-10-03 17:58:04 - neural_mi - INFO - Parameter sweep finished.\n",
      "2025-10-03 17:58:04 - neural_mi - INFO - --- Running Split 3/10 ---\n",
      "2025-10-03 17:58:04 - neural_mi - INFO - Starting parameter sweep with 12 workers...\n"
     ]
    },
    {
     "data": {
      "application/vnd.jupyter.widget-view+json": {
       "model_id": "c3ba36c299b740ddaa2155062e45ce32",
       "version_major": 2,
       "version_minor": 0
      },
      "text/plain": [
       "Parameter Sweep Progress:   0%|          | 0/11 [00:00<?, ?task/s]"
      ]
     },
     "metadata": {},
     "output_type": "display_data"
    },
    {
     "name": "stderr",
     "output_type": "stream",
     "text": [
      "                                                                                                          "
     ]
    },
    {
     "name": "stdout",
     "output_type": "stream",
     "text": [
      "2025-10-03 17:58:18 - neural_mi - INFO - Parameter sweep finished.\n",
      "2025-10-03 17:58:18 - neural_mi - INFO - --- Running Split 4/10 ---\n",
      "2025-10-03 17:58:18 - neural_mi - INFO - Starting parameter sweep with 12 workers...\n"
     ]
    },
    {
     "data": {
      "application/vnd.jupyter.widget-view+json": {
       "model_id": "81de8694638147bbb00f6add9a8b6338",
       "version_major": 2,
       "version_minor": 0
      },
      "text/plain": [
       "Parameter Sweep Progress:   0%|          | 0/11 [00:00<?, ?task/s]"
      ]
     },
     "metadata": {},
     "output_type": "display_data"
    },
    {
     "name": "stderr",
     "output_type": "stream",
     "text": [
      "Run f6ebbe20-8257-4d62-ac2c-a17d153179b2_c6 | MI: 9.247:  54%|█████▍    | 27/50 [00:05<00:02,  8.52it/s] "
     ]
    },
    {
     "name": "stdout",
     "output_type": "stream",
     "text": [
      "2025-10-03 17:58:28 - neural_mi - INFO - Parameter sweep finished.\n",
      "2025-10-03 17:58:28 - neural_mi - INFO - --- Running Split 5/10 ---\n",
      "2025-10-03 17:58:28 - neural_mi - INFO - Starting parameter sweep with 12 workers...\n"
     ]
    },
    {
     "name": "stderr",
     "output_type": "stream",
     "text": [
      "                                                                                                        "
     ]
    },
    {
     "data": {
      "application/vnd.jupyter.widget-view+json": {
       "model_id": "25ecd7ab1eba4a20a3945640a4676c47",
       "version_major": 2,
       "version_minor": 0
      },
      "text/plain": [
       "Parameter Sweep Progress:   0%|          | 0/11 [00:00<?, ?task/s]"
      ]
     },
     "metadata": {},
     "output_type": "display_data"
    },
    {
     "name": "stderr",
     "output_type": "stream",
     "text": [
      "Run 9eff591c-a1dd-479e-87cd-a03b1095c456_c0 | MI: 1.422:  54%|█████▍    | 27/50 [00:05<00:02,  8.63it/s]   "
     ]
    },
    {
     "name": "stdout",
     "output_type": "stream",
     "text": [
      "2025-10-03 17:58:38 - neural_mi - INFO - Parameter sweep finished.\n",
      "2025-10-03 17:58:38 - neural_mi - INFO - --- Running Split 6/10 ---\n",
      "2025-10-03 17:58:38 - neural_mi - INFO - Starting parameter sweep with 12 workers...\n"
     ]
    },
    {
     "name": "stderr",
     "output_type": "stream",
     "text": [
      "                                                                                                        "
     ]
    },
    {
     "data": {
      "application/vnd.jupyter.widget-view+json": {
       "model_id": "ef4714e4fcb6418f8ba36a46c2313d30",
       "version_major": 2,
       "version_minor": 0
      },
      "text/plain": [
       "Parameter Sweep Progress:   0%|          | 0/11 [00:00<?, ?task/s]"
      ]
     },
     "metadata": {},
     "output_type": "display_data"
    },
    {
     "name": "stderr",
     "output_type": "stream",
     "text": [
      "Run 204cef28-fbbc-4952-82c4-3059985d24dd_c1 | MI: 5.001:  76%|███████▌  | 38/50 [00:06<00:01, 11.62it/s] "
     ]
    },
    {
     "name": "stdout",
     "output_type": "stream",
     "text": [
      "2025-10-03 17:58:49 - neural_mi - INFO - Parameter sweep finished.\n",
      "2025-10-03 17:58:49 - neural_mi - INFO - --- Running Split 7/10 ---\n",
      "2025-10-03 17:58:49 - neural_mi - INFO - Starting parameter sweep with 12 workers...\n"
     ]
    },
    {
     "name": "stderr",
     "output_type": "stream",
     "text": [
      "                                                                                                        "
     ]
    },
    {
     "data": {
      "application/vnd.jupyter.widget-view+json": {
       "model_id": "fba7963992e545e99440d952e56697ee",
       "version_major": 2,
       "version_minor": 0
      },
      "text/plain": [
       "Parameter Sweep Progress:   0%|          | 0/11 [00:00<?, ?task/s]"
      ]
     },
     "metadata": {},
     "output_type": "display_data"
    },
    {
     "name": "stderr",
     "output_type": "stream",
     "text": [
      "                                                                                                         "
     ]
    },
    {
     "name": "stdout",
     "output_type": "stream",
     "text": [
      "2025-10-03 17:59:01 - neural_mi - INFO - Parameter sweep finished.\n",
      "2025-10-03 17:59:01 - neural_mi - INFO - --- Running Split 8/10 ---\n",
      "2025-10-03 17:59:01 - neural_mi - INFO - Starting parameter sweep with 12 workers...\n"
     ]
    },
    {
     "data": {
      "application/vnd.jupyter.widget-view+json": {
       "model_id": "7462603e40b8449f9b8ce130bb70f877",
       "version_major": 2,
       "version_minor": 0
      },
      "text/plain": [
       "Parameter Sweep Progress:   0%|          | 0/11 [00:00<?, ?task/s]"
      ]
     },
     "metadata": {},
     "output_type": "display_data"
    },
    {
     "name": "stderr",
     "output_type": "stream",
     "text": [
      "                                                                                                         "
     ]
    },
    {
     "name": "stdout",
     "output_type": "stream",
     "text": [
      "2025-10-03 17:59:12 - neural_mi - INFO - Parameter sweep finished.\n",
      "2025-10-03 17:59:12 - neural_mi - INFO - --- Running Split 9/10 ---\n",
      "2025-10-03 17:59:12 - neural_mi - INFO - Starting parameter sweep with 12 workers...\n"
     ]
    },
    {
     "data": {
      "application/vnd.jupyter.widget-view+json": {
       "model_id": "45f7e0e881924c5491b518d961f9881c",
       "version_major": 2,
       "version_minor": 0
      },
      "text/plain": [
       "Parameter Sweep Progress:   0%|          | 0/11 [00:00<?, ?task/s]"
      ]
     },
     "metadata": {},
     "output_type": "display_data"
    },
    {
     "name": "stderr",
     "output_type": "stream",
     "text": [
      "                                                                                                          "
     ]
    },
    {
     "name": "stdout",
     "output_type": "stream",
     "text": [
      "2025-10-03 17:59:24 - neural_mi - INFO - Parameter sweep finished.\n",
      "2025-10-03 17:59:24 - neural_mi - INFO - --- Running Split 10/10 ---\n",
      "2025-10-03 17:59:24 - neural_mi - INFO - Starting parameter sweep with 12 workers...\n"
     ]
    },
    {
     "data": {
      "application/vnd.jupyter.widget-view+json": {
       "model_id": "6302647c65e44f77b4cd5bf5728927aa",
       "version_major": 2,
       "version_minor": 0
      },
      "text/plain": [
       "Parameter Sweep Progress:   0%|          | 0/11 [00:00<?, ?task/s]"
      ]
     },
     "metadata": {},
     "output_type": "display_data"
    },
    {
     "name": "stderr",
     "output_type": "stream",
     "text": [
      "                                                                                                         "
     ]
    },
    {
     "name": "stdout",
     "output_type": "stream",
     "text": [
      "2025-10-03 17:59:36 - neural_mi - INFO - Parameter sweep finished.\n",
      "2025-10-03 17:59:36 - neural_mi - INFO - --- Dimensionality Analysis Complete ---\n"
     ]
    },
    {
     "data": {
      "text/html": [
       "<div>\n",
       "<style scoped>\n",
       "    .dataframe tbody tr th:only-of-type {\n",
       "        vertical-align: middle;\n",
       "    }\n",
       "\n",
       "    .dataframe tbody tr th {\n",
       "        vertical-align: top;\n",
       "    }\n",
       "\n",
       "    .dataframe thead th {\n",
       "        text-align: right;\n",
       "    }\n",
       "</style>\n",
       "<table border=\"1\" class=\"dataframe\">\n",
       "  <thead>\n",
       "    <tr style=\"text-align: right;\">\n",
       "      <th></th>\n",
       "      <th>embedding_dim</th>\n",
       "      <th>mi_mean</th>\n",
       "      <th>mi_std</th>\n",
       "    </tr>\n",
       "  </thead>\n",
       "  <tbody>\n",
       "    <tr>\n",
       "      <th>0</th>\n",
       "      <td>1</td>\n",
       "      <td>1.529738</td>\n",
       "      <td>0.062835</td>\n",
       "    </tr>\n",
       "    <tr>\n",
       "      <th>1</th>\n",
       "      <td>2</td>\n",
       "      <td>5.082230</td>\n",
       "      <td>0.151619</td>\n",
       "    </tr>\n",
       "    <tr>\n",
       "      <th>2</th>\n",
       "      <td>3</td>\n",
       "      <td>8.072457</td>\n",
       "      <td>0.368571</td>\n",
       "    </tr>\n",
       "    <tr>\n",
       "      <th>3</th>\n",
       "      <td>4</td>\n",
       "      <td>9.354871</td>\n",
       "      <td>0.394955</td>\n",
       "    </tr>\n",
       "    <tr>\n",
       "      <th>4</th>\n",
       "      <td>5</td>\n",
       "      <td>9.439930</td>\n",
       "      <td>0.148353</td>\n",
       "    </tr>\n",
       "  </tbody>\n",
       "</table>\n",
       "</div>"
      ],
      "text/plain": [
       "   embedding_dim   mi_mean    mi_std\n",
       "0              1  1.529738  0.062835\n",
       "1              2  5.082230  0.151619\n",
       "2              3  8.072457  0.368571\n",
       "3              4  9.354871  0.394955\n",
       "4              5  9.439930  0.148353"
      ]
     },
     "metadata": {},
     "output_type": "display_data"
    }
   ],
   "source": [
    "# Base parameters for the trainer\n",
    "base_params = {\n",
    "    'n_epochs': 50, 'learning_rate': 1e-3, 'batch_size': 128,\n",
    "    'patience': 5, 'hidden_dim': 128, 'n_layers': 3\n",
    "}\n",
    "\n",
    "# The sweep_grid MUST contain 'embedding_dim' for this mode\n",
    "sweep_grid = {\n",
    "    'embedding_dim': [1, 2, 3, 4, 5, 6, 8, 10, 12, 16, 20]\n",
    "}\n",
    "\n",
    "# Run the analysis directly on the transposed raw data\n",
    "dim_results = nmi.run(\n",
    "    x_data=x_raw_transposed,\n",
    "    mode='dimensionality',\n",
    "    processor_type='continuous',\n",
    "    processor_params={'window_size': 1},\n",
    "    base_params=base_params,\n",
    "    sweep_grid=sweep_grid,\n",
    "    n_splits=10, # Average over 5 random channel splits\n",
    "    # n_workers=4,\n",
    "    random_seed=42\n",
    ")\n",
    "\n",
    "display(dim_results.dataframe.head())"
   ]
  },
  {
   "cell_type": "markdown",
   "metadata": {},
   "source": [
    "## 4. Visualizing and Interpreting the Saturation Curve\n",
    "\n",
    "The output `Results` object automatically calculates the estimated dimensionality, which we can access from the `details` attribute. We can then use the built-in `.plot()` method to visualize the result."
   ]
  },
  {
   "cell_type": "code",
   "execution_count": 16,
   "metadata": {},
   "outputs": [
    {
     "name": "stdout",
     "output_type": "stream",
     "text": [
      "True Latent Dimension: 3\n",
      "Estimated Latent Dimensions: {0.1: 10, 1.0: 5, 15.0: 3}\n"
     ]
    },
    {
     "data": {
      "image/png": "[encoded data removed]",
      "text/plain": [
       "<Figure size 1000x600 with 1 Axes>"
      ]
     },
     "metadata": {},
     "output_type": "display_data"
    }
   ],
   "source": [
    "# The estimated dimensions are now in the .details attribute\n",
    "estimated_dims = dim_results.details['estimated_dims']\n",
    "print(f\"True Latent Dimension: {true_latent_dim}\")\n",
    "print(f\"Estimated Latent Dimensions: {estimated_dims}\")\n",
    "\n",
    "# Use the built-in plot method and add annotations\n",
    "ax = dim_results.plot(show=False, estimated_values=estimated_dims)\n",
    "\n",
    "ax.axvline(x=true_latent_dim, color='black', linestyle='--', label=f'True Dim ({true_latent_dim})')\n",
    "ax.set_title('Internal Information vs. Embedding Dimension')\n",
    "ax.legend()\n",
    "plt.show()"
   ]
  },
  {
   "cell_type": "markdown",
   "metadata": {},
   "source": [
    "## 5. Conclusion\n",
    "\n",
    "The result is fantastic! The plot clearly shows the MI estimate rising steadily and then flattening out right around the true latent dimension of 4. The automated dimensionality estimation successfully identifies this elbow.\n",
    "\n",
    "This demonstrates a powerful exploratory capability of the `NeuralMI` library for analyzing the intrinsic complexity of high-dimensional neural recordings."
   ]
  }
 ],
 "metadata": {
  "kernelspec": {
   "display_name": "Python [conda env:base] *",
   "language": "python",
   "name": "conda-base-py"
  },
  "language_info": {
   "codemirror_mode": {
    "name": "ipython",
    "version": 3
   },
   "file_extension": ".py",
   "mimetype": "text/x-python",
   "name": "python",
   "nbconvert_exporter": "python",
   "pygments_lexer": "ipython3",
   "version": "3.11.13"
  }
 },
 "nbformat": 4,
 "nbformat_minor": 4
}
