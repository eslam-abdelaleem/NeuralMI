{
 "cells": [
  {
   "cell_type": "markdown",
   "metadata": {},
   "source": [
    "# Tutorial 7: A Deep Dive into the SpikeProcessor\n",
    "\n",
    "This tutorial focuses on the `SpikeProcessor`, designed specifically for handling neural spike train data. Spike data is often represented as a list of timestamps, which requires a different processing approach than continuous signals.\n",
    "\n",
    "**Goal:**\n",
    "1.  Understand the expected input format for spike data.\n",
    "2.  Manually use the `SpikeProcessor` to see how it converts spike times into a 3D tensor.\n",
    "3.  Explain the key parameters: `window_size`, `step_size`, and `max_spikes_per_window`."
   ]
  },
  {
   "cell_type": "markdown",
   "metadata": {},
   "source": [
    "## 1. Imports"
   ]
  },
  {
   "cell_type": "code",
   "execution_count": null,
   "metadata": {},
   "outputs": [],
   "source": [
    "import torch\n",
    "import numpy as np\n",
    "import neural_mi as nmi\n",
    "import matplotlib.pyplot as plt\n",
    "import seaborn as sns\n",
    "\n",
    "sns.set_context(\"talk\")"
   ]
  },
  {
   "cell_type": "markdown",
   "metadata": {},
   "source": [
    "## 2. Generating Raw Spike Data\n",
    "\n",
    "The library expects spike data to be a **list of numpy arrays**. Each array in the list represents a single neuron (a channel) and contains the timestamps of its spikes.\n",
    "\n",
    "Let's generate some synthetic data in this format."
   ]
  },
  {
   "cell_type": "code",
   "execution_count": null,
   "metadata": {},
   "outputs": [],
   "source": [
    "x_spike_data, y_spike_data = nmi.datasets.generate_correlated_spike_trains(\n",
    "    n_neurons=5, \n",
    "    duration=100.0 # Generate 100 seconds of data initially\n",
    ")\n",
    "\n",
    "print(f\"Data is a list of {len(x_spike_data)} neurons.\")\n",
    "print(f\"Spike times for first neuron in X: {x_spike_data[0][:10]}...\")"
   ]
  },
  {
   "cell_type": "markdown",
   "metadata": {},
   "source": [
    "## 3. Manual Processing with `SpikeProcessor`\n",
    "\n",
    "The `SpikeProcessor` converts this list of spike times into a 3D tensor of shape `(n_samples, n_channels, n_features)`. \n",
    "\n",
    "Key parameters:\n",
    "- `window_size`: The duration of the time window in seconds.\n",
    "- `step_size`: The time to slide the window forward for each new sample.\n",
    "- `n_seconds`: The total duration of the data to analyze. This is useful for analyzing only a subset of a long recording.\n",
    "- `max_spikes_per_window`: This is crucial. Since the number of spikes in any window can vary, we need to pad the results into a consistent tensor. This parameter sets the maximum number of spikes to keep from any window. If a window has more spikes, they are truncated; if it has fewer, the rest of the feature vector is padded with zeros."
   ]
  },
  {
   "cell_type": "code",
   "execution_count": null,
   "metadata": {},
   "outputs": [],
   "source": [
    "# Initialize the processor to analyze the first 20 seconds of the data\n",
    "processor = nmi.data.SpikeProcessor(\n",
    "    window_size=0.1,  # 100 ms window\n",
    "    step_size=0.01,   # 10 ms step\n",
    "    n_seconds=20,     # Analyze the first 20 seconds\n",
    "    max_spikes_per_window=10 # Keep at most 10 spikes per window\n",
    ")\n",
    "\n",
    "# Process the data\n",
    "x_processed = processor.process(x_spike_data)\n",
    "\n",
    "print(f\"Processed data shape: {x_processed.shape}\")"
   ]
  },
  {
   "cell_type": "markdown",
   "metadata": {},
   "source": [
    "The output shape `(1991, 5, 10)` makes sense:\n",
    "- **1991 samples**: We started with 20 seconds of data. The last window of size 0.1s starts at time 19.90s. With a step of 0.01s, this gives 1991 total windows.\n",
    "- **5 channels**: The number of neurons is preserved.\n",
    "- **10 features**: Each sample contains the times of up to 10 spikes relative to the start of the window."
   ]
  },
  {
   "cell_type": "markdown",
   "metadata": {},
   "source": [
    "### Visualizing a Spike Window\n",
    "\n",
    "A spike raster plot can help visualize this process. The plot below shows the raw spike times for each neuron. The red shaded region represents a single time window that becomes one sample in our processed tensor. The values in the processed tensor are the spike times *relative to the start of that window*."
   ]
  },
  {
   "cell_type": "code",
   "execution_count": null,
   "metadata": {},
   "outputs": [],
   "source": [
    "# Let's visualize the 100th window (index 99)\n",
    "window_idx = 99\n",
    "window_size = processor.window_size\n",
    "step_size = processor.step_size\n",
    "\n",
    "# The start of our window in time is window_idx * step_size\n",
    "start_time = window_idx * step_size\n",
    "end_time = start_time + window_size\n",
    "\n",
    "fig, ax = plt.subplots(figsize=(12, 6))\n",
    "\n",
    "# Create the raster plot\n",
    "ax.eventplot(x_spike_data, color='black', linelengths=0.8)\n",
    "ax.set_title('Spike Raster Plot')\n",
    "ax.set_xlabel('Time (s)')\n",
    "ax.set_ylabel('Neuron ID')\n",
    "ax.set_yticks(np.arange(len(x_spike_data)))\n",
    "\n",
    "# Highlight the region corresponding to our chosen window\n",
    "ax.axvspan(start_time, end_time, color='red', alpha=0.3, label=f'Window {window_idx}')\n",
    "ax.legend()\n",
    "ax.set_xlim(start_time - window_size*2, end_time + window_size*2) # Zoom in on the window\n",
    "\n",
    "plt.show()\n",
    "\n",
    "# You can also inspect the contents of the processed tensor for this window\n",
    "print(f\"Contents of processed tensor for window {window_idx} (channel 0):\")\n",
    "print(x_processed[window_idx, 0, :])"
   ]
  },
  {
   "cell_type": "markdown",
   "metadata": {},
   "source": [
    "### Auto-detection of `max_spikes_per_window`\n",
    "\n",
    "If you don't provide `max_spikes_per_window`, the processor will automatically calculate it from the data by finding the window with the most spikes. This is convenient but can sometimes use more memory if there is one outlier window with an unusually high spike count."
   ]
  },
  {
   "cell_type": "code",
   "execution_count": null,
   "metadata": {},
   "outputs": [],
   "source": [
    "base_params = {\n",
    "    'n_epochs': 5, 'learning_rate': 1e-3, 'batch_size': 128,\n",
    "    'patience': 2, 'embedding_dim': 8, 'hidden_dim': 32, 'n_layers': 1\n",
    "}\n",
    "\n",
    "results = nmi.run(\n",
    "    x_data=x_spike_data,\n",
    "    y_data=y_spike_data,\n",
    "    mode='estimate',\n",
    "    processor_type='spike',\n",
    "    processor_params={'window_size': 0.1, 'step_size': 0.01},\n",
    "    base_params=base_params\n",
    ")\n",
    "\n",
    "print(f\"\\nMI Estimate from automated pipeline: {results.mi_estimate:.3f} bits\")"
   ]
  },
  {
   "cell_type": "markdown",
   "metadata": {},
   "source": [
    "## 5. Conclusion\n",
    "\n",
    "This tutorial explained how to format spike train data and how the `SpikeProcessor` turns it into a tensor suitable for MI estimation. Understanding these parameters is key to analyzing spike data effectively with this library."
   ]
  }
 ],
 "metadata": {
  "kernelspec": {
   "display_name": "Python [conda env:base] *",
   "language": "python",
   "name": "conda-base-py"
  },
  "language_info": {
   "codemirror_mode": {
    "name": "ipython",
    "version": 3
   },
   "file_extension": ".py",
   "mimetype": "text/x-python",
   "name": "python",
   "nbconvert_exporter": "python",
   "pygments_lexer": "ipython3",
   "version": "3.12.11"
  }
 },
 "nbformat": 4,
 "nbformat_minor": 4
}