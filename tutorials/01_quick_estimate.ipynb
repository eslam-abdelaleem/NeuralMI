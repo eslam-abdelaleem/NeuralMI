{
 "cells": [
  {
   "cell_type": "markdown",
   "metadata": {},
   "source": [
    "# Example 1: A Quick First Estimate\n",
    "\n",
    "This notebook covers the most basic use case of the `NeuralMI` library: getting a single, quick estimate of mutual information between two variables.\n",
    "\n",
    "**Goal:**\n",
    "1.  Introduce the main `neural_mi.run` function.\n",
    "2.  Use a simple dataset where the ground truth MI is known analytically.\n",
    "3.  Compare our estimate to the ground truth to verify the library is working."
   ]
  },
  {
   "cell_type": "markdown",
   "metadata": {},
   "source": [
    "## 1. Imports\n",
    "\n",
    "We'll need `torch` for data handling, our `run` function, and the data generator."
   ]
  },
  {
   "cell_type": "code",
   "execution_count": null,
   "metadata": {},
   "outputs": [],
   "source": [
    "import torch\n",
    "import numpy as np\n",
    "import neural_mi as nmi"
   ]
  },
  {
   "cell_type": "markdown",
   "metadata": {},
   "source": [
    "## 2. Generating the Data\n",
    "\n",
    "We will use the `generate_correlated_gaussians` function, which creates two multidimensional Gaussian variables, `X` and `Y`, with a precisely specified mutual information in **bits**.\n",
    "\n",
    "The raw output of the generator is `(n_samples, n_features)`. However, our `ContinuousProcessor` expects the format `(n_channels, n_timepoints)`. For this simple case where each sample is a time point, we will treat features as channels and transpose the data accordingly."
   ]
  },
  {
   "cell_type": "code",
   "execution_count": null,
   "metadata": {},
   "outputs": [],
   "source": [
    "# --- Dataset Parameters ---\n",
    "n_samples = 5000\n",
    "dim = 5\n",
    "ground_truth_mi_bits = 2.0\n",
    "\n",
    "# --- Generate Raw 2D Data ---\n",
    "# This creates data of shape (n_samples, dim).\n",
    "x_raw, y_raw = nmi.datasets.generate_correlated_gaussians(\n",
    "    n_samples=n_samples, \n",
    "    dim=dim, \n",
    "    mi=ground_truth_mi_bits\n",
    ")\n",
    "\n",
    "# Transpose to the expected (n_channels, n_timepoints) format for the processor\n",
    "x_raw_transposed = x_raw.T\n",
    "y_raw_transposed = y_raw.T\n",
    "\n",
    "print(f\"Transposed X data shape: {x_raw_transposed.shape}\")\n",
    "print(f\"Transposed Y data shape: {y_raw_transposed.shape}\")"
   ]
  },
  {
   "cell_type": "markdown",
   "metadata": {},
   "source": [
    "## 3. Defining the Analysis Parameters\n",
    "\n",
    "The `run` function requires a `base_params` dictionary. Since each sample is independent, we use a `window_size` of 1, which tells the processor to treat each time point (column) as a distinct sample."
   ]
  },
  {
   "cell_type": "code",
   "execution_count": null,
   "metadata": {},
   "outputs": [],
   "source": [
    "# The processor will treat each column as a sample.\n",
    "processor_params = {'window_size': 1}\n",
    "\n",
    "# Basic model and training parameters\n",
    "base_params = {\n",
    "    'n_epochs': 50, 'learning_rate': 1e-3, 'batch_size': 128,\n",
    "    'patience': 5, 'embedding_dim': 16, 'hidden_dim': 64, 'n_layers': 2\n",
    "}"
   ]
  },
  {
   "cell_type": "markdown",
   "metadata": {},
   "source": [
    "## 4. Running the MI Estimation\n",
    "\n",
    "Now we call the main `nmi.run` function. We add `random_seed=42` to ensure our result is reproducible."
   ]
  },
  {
   "cell_type": "code",
   "execution_count": null,
   "metadata": {},
   "outputs": [],
   "source": [
    "results = nmi.run(\n",
    "    x_data=x_raw_transposed,  # Pass transposed data\n",
    "    y_data=y_raw_transposed,  # Pass transposed data\n",
    "    mode='estimate',\n",
    "    processor_type='continuous',\n",
    "    processor_params=processor_params,\n",
    "    base_params=base_params,\n",
    "    output_units='bits',\n",
    "    random_seed=42 # For reproducibility\n",
    ")\n",
    "\n",
    "estimated_mi_bits = results.mi_estimate\n",
    "\n",
    "print(f\"\\n--- Results ---\")\n",
    "print(f\"Ground Truth MI:  {ground_truth_mi_bits:.3f} bits\")\n",
    "print(f\"Estimated MI:     {estimated_mi_bits:.3f} bits\")\n",
    "print(f\"Estimation Error: {abs(estimated_mi_bits - ground_truth_mi_bits):.3f} bits\")"
   ]
  },
  {
   "cell_type": "markdown",
   "metadata": {},
   "source": [
    "## 5. Conclusion\n",
    "\n",
    "Success! The estimated MI is very close to the ground truth value we specified. We were able to get this estimate by formatting our data correctly for the `ContinuousProcessor`."
   ]
  }
 ],
 "metadata": {
  "kernelspec": {
   "display_name": "Python [conda env:base] *",
   "language": "python",
   "name": "conda-base-py"
  },
  "language_info": {
   "codemirror_mode": {
    "name": "ipython",
    "version": 3
   },
   "file_extension": ".py",
   "mimetype": "text/x-python",
   "name": "python",
   "nbconvert_exporter": "python",
   "pygments_lexer": "ipython3",
   "version": "3.11.13"
  }
 },
 "nbformat": 4,
 "nbformat_minor": 4
}
