{
 "cells": [
  {
   "cell_type": "markdown",
   "metadata": {},
   "source": [
    "# Tutorial 6: Choosing the Right Model and Estimator\n",
    "\n",
    "So far, we've learned how to prepare our data and optimize processing parameters like `window_size`. Now, we need to look inside the 'black box' and understand the two most important choices that determine the success of our MI estimate:\n",
    "\n",
    "1.  **The Critic Architecture**: The neural network that *compares* the data from X and Y.\n",
    "2.  **The MI Estimator**: The loss function that *trains* the critic.\n",
    "\n",
    "Getting these right is key to capturing the true nature of the relationship in your data. This tutorial will provide the intuition and practical examples to guide your choices."
   ]
  },
  {
   "cell_type": "code",
   "execution_count": 2,
   "metadata": {},
   "outputs": [],
   "source": [
    "import torch\n",
    "import numpy as np\n",
    "import neural_mi as nmi\n",
    "import matplotlib.pyplot as plt\n",
    "import seaborn as sns\n",
    "from torch.nn import Sequential, Linear, Softplus\n",
    "\n",
    "sns.set_context(\"talk\")"
   ]
  },
  {
   "cell_type": "markdown",
   "metadata": {},
   "source": [
    "## Part 1: Choosing the Critic Architecture\n",
    "\n",
    "Think of the critic's job as being a sophisticated comparison function, `f(x, y)`. The complexity of this function determines the kinds of relationships the model can find. `NeuralMI` provides three main critic types, each with a different balance of computational cost and expressive power."
   ]
  },
  {
   "cell_type": "markdown",
   "metadata": {},
   "source": [
    "| Critic Type | How it Works | Power | Cost | Use Case |\n",
    "| :--- | :--- | :--- | :--- | :--- |\n",
    "| **`SeparableCritic`** | Compares embeddings with a simple dot product: `g(x) • h(y)`. | Low | Low | **Default choice.** Fast and effective for most relationships. |\n",
    "| **`BilinearCritic`** | Uses a learnable matrix to compare embeddings: `g(x)ᵀ W h(y)`. | Medium | Medium | Good for more complex relationships, like rotations, without a huge speed penalty. |\n",
    "| **`ConcatCritic`** | Concatenates inputs `[x, y]` into a single powerful network `f(x, y)`. | High | High | The most powerful, but can be very slow. Use when other critics fail. |"
   ]
  },
  {
   "cell_type": "markdown",
   "metadata": {},
   "source": [
    "### The Test: The Rotated Manifold Problem\n",
    "\n",
    "To see the difference, we'll create a special dataset. We'll generate a high-dimensional `X` from a latent variable `Z`, and a high-dimensional `Y` from a **rotated** version of `Z`. A simple `SeparableCritic` (dot product) will struggle to see that these are related, but the more powerful critics should succeed. Also note that MI here is bounded by the entropy of `Z` (`I(X;Y)~I(Z;Z)~H(Z)`) which can be infinte. Thus, we are not interested in the exact value of MI, but rather the trends. "
   ]
  },
  {
   "cell_type": "code",
   "execution_count": 3,
   "metadata": {},
   "outputs": [],
   "source": [
    "# 1. Create the shared latent variable Z\n",
    "n_samples = 5000\n",
    "z = torch.randn(n_samples, 2)\n",
    "\n",
    "# 2. Create a 45-degree rotation matrix for Y's latent variable\n",
    "angle = np.pi / 4\n",
    "rotation_matrix = torch.tensor([[np.cos(angle), -np.sin(angle)], [np.sin(angle), np.cos(angle)]], dtype=torch.float32)\n",
    "z_rotated = z @ rotation_matrix\n",
    "\n",
    "# 3. Create nonlinear mappings from latent to a high-dimensional observed space\n",
    "mlp = Sequential(Linear(2, 64), Softplus(), Linear(64, 50))\n",
    "x_raw = mlp(z).T.detach()\n",
    "y_raw = mlp(z_rotated).T.detach()"
   ]
  },
  {
   "cell_type": "code",
   "execution_count": 4,
   "metadata": {},
   "outputs": [
    {
     "name": "stdout",
     "output_type": "stream",
     "text": [
      "2025-10-20 00:11:13 - neural_mi - INFO - Starting parameter sweep sequentially (n_workers=1)...\n"
     ]
    },
    {
     "data": {
      "application/vnd.jupyter.widget-view+json": {
       "model_id": "42999a57e5f143418872dd5853e003a0",
       "version_major": 2,
       "version_minor": 0
      },
      "text/plain": [
       "Sequential Sweep Progress:   0%|          | 0/15 [00:00<?, ?it/s]"
      ]
     },
     "metadata": {},
     "output_type": "display_data"
    },
    {
     "data": {
      "application/vnd.jupyter.widget-view+json": {
       "model_id": "8a4cba9a050b46428c6e018a1a8a68bc",
       "version_major": 2,
       "version_minor": 0
      },
      "text/plain": [
       "Run 2d6fd806-29b8-4b86-87bf-09e26a5e271b_c0:   0%|          | 0/100 [00:00<?, ?it/s]"
      ]
     },
     "metadata": {},
     "output_type": "display_data"
    },
    {
     "data": {
      "application/vnd.jupyter.widget-view+json": {
       "model_id": "5bc1123e1c7b4989ab3c2faa3cccebad",
       "version_major": 2,
       "version_minor": 0
      },
      "text/plain": [
       "Run 2d6fd806-29b8-4b86-87bf-09e26a5e271b_c1:   0%|          | 0/100 [00:00<?, ?it/s]"
      ]
     },
     "metadata": {},
     "output_type": "display_data"
    },
    {
     "data": {
      "application/vnd.jupyter.widget-view+json": {
       "model_id": "bc028a29953f4304aa0cf2586e44be0d",
       "version_major": 2,
       "version_minor": 0
      },
      "text/plain": [
       "Run 2d6fd806-29b8-4b86-87bf-09e26a5e271b_c2:   0%|          | 0/100 [00:00<?, ?it/s]"
      ]
     },
     "metadata": {},
     "output_type": "display_data"
    },
    {
     "data": {
      "application/vnd.jupyter.widget-view+json": {
       "model_id": "424d6b74a19d436db1592a2908dc8195",
       "version_major": 2,
       "version_minor": 0
      },
      "text/plain": [
       "Run 2d6fd806-29b8-4b86-87bf-09e26a5e271b_c3:   0%|          | 0/100 [00:00<?, ?it/s]"
      ]
     },
     "metadata": {},
     "output_type": "display_data"
    },
    {
     "data": {
      "application/vnd.jupyter.widget-view+json": {
       "model_id": "42d53c9190e646fe8b7841c882aa1a26",
       "version_major": 2,
       "version_minor": 0
      },
      "text/plain": [
       "Run 2d6fd806-29b8-4b86-87bf-09e26a5e271b_c4:   0%|          | 0/100 [00:00<?, ?it/s]"
      ]
     },
     "metadata": {},
     "output_type": "display_data"
    },
    {
     "data": {
      "application/vnd.jupyter.widget-view+json": {
       "model_id": "d6217cc795d942d7b1bc4c5eef418935",
       "version_major": 2,
       "version_minor": 0
      },
      "text/plain": [
       "Run 2d6fd806-29b8-4b86-87bf-09e26a5e271b_c5:   0%|          | 0/100 [00:00<?, ?it/s]"
      ]
     },
     "metadata": {},
     "output_type": "display_data"
    },
    {
     "data": {
      "application/vnd.jupyter.widget-view+json": {
       "model_id": "f408df691da04606a1083e63cab11ea6",
       "version_major": 2,
       "version_minor": 0
      },
      "text/plain": [
       "Run 2d6fd806-29b8-4b86-87bf-09e26a5e271b_c6:   0%|          | 0/100 [00:00<?, ?it/s]"
      ]
     },
     "metadata": {},
     "output_type": "display_data"
    },
    {
     "data": {
      "application/vnd.jupyter.widget-view+json": {
       "model_id": "6da54a30d3af4b8b8924f3f90648c8d3",
       "version_major": 2,
       "version_minor": 0
      },
      "text/plain": [
       "Run 2d6fd806-29b8-4b86-87bf-09e26a5e271b_c7:   0%|          | 0/100 [00:00<?, ?it/s]"
      ]
     },
     "metadata": {},
     "output_type": "display_data"
    },
    {
     "data": {
      "application/vnd.jupyter.widget-view+json": {
       "model_id": "32f79f1d276d4952a1425ed62d0212ba",
       "version_major": 2,
       "version_minor": 0
      },
      "text/plain": [
       "Run 2d6fd806-29b8-4b86-87bf-09e26a5e271b_c8:   0%|          | 0/100 [00:00<?, ?it/s]"
      ]
     },
     "metadata": {},
     "output_type": "display_data"
    },
    {
     "data": {
      "application/vnd.jupyter.widget-view+json": {
       "model_id": "f93645af5fa041d99d29f60c4eeeae77",
       "version_major": 2,
       "version_minor": 0
      },
      "text/plain": [
       "Run 2d6fd806-29b8-4b86-87bf-09e26a5e271b_c9:   0%|          | 0/100 [00:00<?, ?it/s]"
      ]
     },
     "metadata": {},
     "output_type": "display_data"
    },
    {
     "data": {
      "application/vnd.jupyter.widget-view+json": {
       "model_id": "766e61b481764155a49fc70a888d7d0d",
       "version_major": 2,
       "version_minor": 0
      },
      "text/plain": [
       "Run 2d6fd806-29b8-4b86-87bf-09e26a5e271b_c10:   0%|          | 0/100 [00:00<?, ?it/s]"
      ]
     },
     "metadata": {},
     "output_type": "display_data"
    },
    {
     "data": {
      "application/vnd.jupyter.widget-view+json": {
       "model_id": "dd990870dd9242d5ba65ca6057cbd9b1",
       "version_major": 2,
       "version_minor": 0
      },
      "text/plain": [
       "Run 2d6fd806-29b8-4b86-87bf-09e26a5e271b_c11:   0%|          | 0/100 [00:00<?, ?it/s]"
      ]
     },
     "metadata": {},
     "output_type": "display_data"
    },
    {
     "data": {
      "application/vnd.jupyter.widget-view+json": {
       "model_id": "7fe89b83e171429398c95d27fdb7063f",
       "version_major": 2,
       "version_minor": 0
      },
      "text/plain": [
       "Run 2d6fd806-29b8-4b86-87bf-09e26a5e271b_c12:   0%|          | 0/100 [00:00<?, ?it/s]"
      ]
     },
     "metadata": {},
     "output_type": "display_data"
    },
    {
     "data": {
      "application/vnd.jupyter.widget-view+json": {
       "model_id": "6b8b1b7b972a4cf892141434fc291cac",
       "version_major": 2,
       "version_minor": 0
      },
      "text/plain": [
       "Run 2d6fd806-29b8-4b86-87bf-09e26a5e271b_c13:   0%|          | 0/100 [00:00<?, ?it/s]"
      ]
     },
     "metadata": {},
     "output_type": "display_data"
    },
    {
     "data": {
      "application/vnd.jupyter.widget-view+json": {
       "model_id": "0ca1fa43eb6847489cefc1865ef7eec2",
       "version_major": 2,
       "version_minor": 0
      },
      "text/plain": [
       "Run 2d6fd806-29b8-4b86-87bf-09e26a5e271b_c14:   0%|          | 0/100 [00:00<?, ?it/s]"
      ]
     },
     "metadata": {},
     "output_type": "display_data"
    },
    {
     "name": "stdout",
     "output_type": "stream",
     "text": [
      "2025-10-20 00:21:05 - neural_mi - INFO - Parameter sweep finished.\n"
     ]
    }
   ],
   "source": [
    "# Now we sweep over the critic types to see which one can solve the task\n",
    "sweep_grid = {\n",
    "    'critic_type': ['separable', 'bilinear', 'concat'],\n",
    "    'run_id': range(5) # Average over 5 runs for stability\n",
    "}\n",
    "\n",
    "base_params = {\n",
    "    'n_epochs': 100, 'learning_rate': 5e-4, 'batch_size': 64,\n",
    "    'patience': 20, 'embedding_dim': 8, 'hidden_dim': 64, 'n_layers': 3\n",
    "}\n",
    "\n",
    "critic_results = nmi.run(\n",
    "    x_data=x_raw, y_data=y_raw,\n",
    "    mode='sweep',\n",
    "    processor_type_x='continuous',\n",
    "    processor_params_x={'window_size': 1},\n",
    "    base_params=base_params,\n",
    "    sweep_grid=sweep_grid,\n",
    "    split_mode='random',  # For IID data\n",
    "    n_workers=1, # Because concat is very costly, running multiple instances of it together will likely crash the device\n",
    "    random_seed=42\n",
    ")"
   ]
  },
  {
   "cell_type": "markdown",
   "metadata": {},
   "source": [
    "### The Result: Sort of a Hierarchy\n",
    "\n",
    "The results might show a hierarchy in power. The `SeparableCritic` finds the lowest MI. The `BilinearCritic` does better, as its learnable matrix `W` can effectively undo the rotation. The `ConcatCritic`, being the most powerful, also succeeds, achieving a slightly higher MI at the cost of being slower."
   ]
  },
  {
   "cell_type": "code",
   "execution_count": 5,
   "metadata": {},
   "outputs": [
    {
     "data": {
      "image/png": "[encoded data removed]",
      "text/plain": [
       "<Figure size 1000x600 with 1 Axes>"
      ]
     },
     "metadata": {},
     "output_type": "display_data"
    }
   ],
   "source": [
    "plt.figure(figsize=(10, 6))\n",
    "sns.barplot(data=critic_results.dataframe, x='critic_type', y='mi_mean', capsize=0.1, order=['separable', 'bilinear', 'concat'])\n",
    "plt.title('Critic Performance on the Rotated Manifold Task')\n",
    "plt.ylabel('Estimated MI (bits)')\n",
    "plt.xlabel('Critic Architecture')\n",
    "plt.ylim(bottom=0)\n",
    "plt.show()"
   ]
  },
  {
   "cell_type": "markdown",
   "metadata": {},
   "source": [
    "## Part 2: Choosing the MI Estimator\n",
    "\n",
    "The estimator is the loss function used to train the critic. The choice of estimator involves a crucial trade-off between **bias** and **variance**.\n",
    "\n",
    "| Estimator | Bias | Variance | Use Case |\n",
    "| :--- | :--- | :--- | :--- |\n",
    "| **`InfoNCE`** | High (Biased Low) | Low | **Default choice.** Very stable. Excellent for most tasks where the true MI isn't extremely high. |\n",
    "| **`SMILE`** | Low | Medium | Less biased. Use when you suspect the true MI is very high, as it can avoid the artificial ceiling that affects `InfoNCE`. |"
   ]
  },
  {
   "cell_type": "markdown",
   "metadata": {},
   "source": [
    "### The Problem: The `InfoNCE` Upper Bound\n",
    "\n",
    "The `InfoNCE` estimator is mathematically bounded by `log(batch_size)`. This means it can never report an MI value higher than this limit. For a batch size of 128, the limit is `log(128) ≈ 4.85` nats or `6.99` bits. If the true MI is higher than this, `InfoNCE` will underestimate it.\n",
    "\n",
    "Let's create a dataset with a known **ground truth MI of 8.0 bits** and see how the two estimators perform."
   ]
  },
  {
   "cell_type": "code",
   "execution_count": 6,
   "metadata": {},
   "outputs": [
    {
     "name": "stdout",
     "output_type": "stream",
     "text": [
      "--- Running with InfoNCE (default) ---\n",
      "2025-10-20 00:21:07 - neural_mi - INFO - Starting parameter sweep sequentially (n_workers=1)...\n"
     ]
    },
    {
     "data": {
      "application/vnd.jupyter.widget-view+json": {
       "model_id": "761dc87722db4729a52252b9aa9cbe2b",
       "version_major": 2,
       "version_minor": 0
      },
      "text/plain": [
       "Sequential Sweep Progress:   0%|          | 0/1 [00:00<?, ?it/s]"
      ]
     },
     "metadata": {},
     "output_type": "display_data"
    },
    {
     "data": {
      "application/vnd.jupyter.widget-view+json": {
       "model_id": "4f653ff26f9b44ce82e9ac9e8b69f217",
       "version_major": 2,
       "version_minor": 0
      },
      "text/plain": [
       "Run a8fb7fe4-f120-4f6b-96d9-d4d855ba4e98_c0:   0%|          | 0/100 [00:00<?, ?it/s]"
      ]
     },
     "metadata": {},
     "output_type": "display_data"
    },
    {
     "name": "stdout",
     "output_type": "stream",
     "text": [
      "2025-10-20 00:21:27 - neural_mi - INFO - Parameter sweep finished.\n",
      "\n",
      "--- Running with SMILE ---\n",
      "2025-10-20 00:21:27 - neural_mi - INFO - Starting parameter sweep sequentially (n_workers=1)...\n"
     ]
    },
    {
     "data": {
      "application/vnd.jupyter.widget-view+json": {
       "model_id": "208db8b1db124b8ebac104e8e3e0c3f1",
       "version_major": 2,
       "version_minor": 0
      },
      "text/plain": [
       "Sequential Sweep Progress:   0%|          | 0/1 [00:00<?, ?it/s]"
      ]
     },
     "metadata": {},
     "output_type": "display_data"
    },
    {
     "data": {
      "application/vnd.jupyter.widget-view+json": {
       "model_id": "85953dc7b231462e8195d80e090c45ae",
       "version_major": 2,
       "version_minor": 0
      },
      "text/plain": [
       "Run 447c79c7-3552-48d6-919d-4836a8e7dc8f_c0:   0%|          | 0/100 [00:00<?, ?it/s]"
      ]
     },
     "metadata": {},
     "output_type": "display_data"
    },
    {
     "name": "stdout",
     "output_type": "stream",
     "text": [
      "2025-10-20 00:21:58 - neural_mi - INFO - Parameter sweep finished.\n",
      "\n",
      "--- Comparison ---\n",
      "Ground Truth MI:      8.000 bits\n",
      "InfoNCE Limit:          7.000 bits\n",
      "InfoNCE Estimate:       6.104 bits\n",
      "SMILE Estimate:         11.279 bits\n"
     ]
    }
   ],
   "source": [
    "ground_truth_mi = 8.0\n",
    "batch_size = 128\n",
    "infonce_limit_bits = np.log(batch_size) / np.log(2)\n",
    "\n",
    "x_high_mi, y_high_mi = nmi.datasets.generate_correlated_gaussians(\n",
    "    n_samples=10000, dim=20, mi=ground_truth_mi\n",
    ")\n",
    "\n",
    "# Use a powerful model to ensure the estimator is the limiting factor\n",
    "high_mi_params = {\n",
    "    'n_epochs': 100, 'learning_rate': 5e-4, 'batch_size': batch_size,\n",
    "    'patience': 20, 'embedding_dim': 32, 'hidden_dim': 128, 'n_layers': 3\n",
    "}\n",
    "\n",
    "print(\"--- Running with InfoNCE (default) ---\")\n",
    "infonce_results = nmi.run(\n",
    "    x_data=x_high_mi.T, y_data=y_high_mi.T, mode='estimate',\n",
    "    processor_type_x='continuous', processor_params_x={'window_size': 1}, split_mode='random',\n",
    "    base_params=high_mi_params, estimator='infonce', random_seed=42\n",
    ")\n",
    "\n",
    "print(\"\\n--- Running with SMILE ---\")\n",
    "smile_results = nmi.run(\n",
    "    x_data=x_high_mi.T, y_data=y_high_mi.T, mode='estimate',\n",
    "    processor_type_x='continuous', processor_params_x={'window_size': 1}, split_mode='random',\n",
    "    base_params=high_mi_params, estimator='smile', estimator_params={'clip': 1}, random_seed=42\n",
    ")\n",
    "\n",
    "print(\"\\n--- Comparison ---\")\n",
    "print(f\"Ground Truth MI:      {ground_truth_mi:.3f} bits\")\n",
    "print(f\"InfoNCE Limit:          {infonce_limit_bits:.3f} bits\")\n",
    "print(f\"InfoNCE Estimate:       {infonce_results.mi_estimate:.3f} bits\")\n",
    "print(f\"SMILE Estimate:         {smile_results.mi_estimate:.3f} bits\")"
   ]
  },
  {
   "cell_type": "markdown",
   "metadata": {},
   "source": [
    "The results are interesting: `InfoNCE` approaches its artificial ceiling and underestimates the true MI. `SMILE`, being less biased, provides a higher -and noiser- estimate. This is why `SMILE` is the recommended choice for `mode='dimensionality'`, where we don't care that much about the exact value of MI, rather its trend, and the internal information can be very high.\n",
    "\n",
    "This result then should invite us to rethink the difference between the critics we noticed earlier, is it a *true* saturation, or an artifact of `InfoNCE`?\n",
    "\n",
    "### Critic Architecture, Revisited:"
   ]
  },
  {
   "cell_type": "code",
   "execution_count": 7,
   "metadata": {},
   "outputs": [
    {
     "name": "stdout",
     "output_type": "stream",
     "text": [
      "2025-10-20 00:21:58 - neural_mi - INFO - Starting parameter sweep sequentially (n_workers=1)...\n"
     ]
    },
    {
     "data": {
      "application/vnd.jupyter.widget-view+json": {
       "model_id": "2f394337e7a5401cbef7cfb1d7d257b0",
       "version_major": 2,
       "version_minor": 0
      },
      "text/plain": [
       "Sequential Sweep Progress:   0%|          | 0/15 [00:00<?, ?it/s]"
      ]
     },
     "metadata": {},
     "output_type": "display_data"
    },
    {
     "data": {
      "application/vnd.jupyter.widget-view+json": {
       "model_id": "8c6f4ec7c48a48bcb074c01aa371fd72",
       "version_major": 2,
       "version_minor": 0
      },
      "text/plain": [
       "Run c9c355dc-ae8f-49d6-8faf-51b89695ff17_c0:   0%|          | 0/100 [00:00<?, ?it/s]"
      ]
     },
     "metadata": {},
     "output_type": "display_data"
    },
    {
     "data": {
      "application/vnd.jupyter.widget-view+json": {
       "model_id": "2dbdb879e70e43ee835d092428cc6597",
       "version_major": 2,
       "version_minor": 0
      },
      "text/plain": [
       "Run c9c355dc-ae8f-49d6-8faf-51b89695ff17_c1:   0%|          | 0/100 [00:00<?, ?it/s]"
      ]
     },
     "metadata": {},
     "output_type": "display_data"
    },
    {
     "data": {
      "application/vnd.jupyter.widget-view+json": {
       "model_id": "e95905a2c12f49e8a39c4d3aa54a8410",
       "version_major": 2,
       "version_minor": 0
      },
      "text/plain": [
       "Run c9c355dc-ae8f-49d6-8faf-51b89695ff17_c2:   0%|          | 0/100 [00:00<?, ?it/s]"
      ]
     },
     "metadata": {},
     "output_type": "display_data"
    },
    {
     "data": {
      "application/vnd.jupyter.widget-view+json": {
       "model_id": "a8d7d95a011d4487b682f1628062a52f",
       "version_major": 2,
       "version_minor": 0
      },
      "text/plain": [
       "Run c9c355dc-ae8f-49d6-8faf-51b89695ff17_c3:   0%|          | 0/100 [00:00<?, ?it/s]"
      ]
     },
     "metadata": {},
     "output_type": "display_data"
    },
    {
     "data": {
      "application/vnd.jupyter.widget-view+json": {
       "model_id": "4678aa1547af413ebdd7ebaff1c90b52",
       "version_major": 2,
       "version_minor": 0
      },
      "text/plain": [
       "Run c9c355dc-ae8f-49d6-8faf-51b89695ff17_c4:   0%|          | 0/100 [00:00<?, ?it/s]"
      ]
     },
     "metadata": {},
     "output_type": "display_data"
    },
    {
     "data": {
      "application/vnd.jupyter.widget-view+json": {
       "model_id": "75c48a147be04f5e9d0cb404de818d3d",
       "version_major": 2,
       "version_minor": 0
      },
      "text/plain": [
       "Run c9c355dc-ae8f-49d6-8faf-51b89695ff17_c5:   0%|          | 0/100 [00:00<?, ?it/s]"
      ]
     },
     "metadata": {},
     "output_type": "display_data"
    },
    {
     "data": {
      "application/vnd.jupyter.widget-view+json": {
       "model_id": "5e772379405d45c8b2687962b778fdf5",
       "version_major": 2,
       "version_minor": 0
      },
      "text/plain": [
       "Run c9c355dc-ae8f-49d6-8faf-51b89695ff17_c6:   0%|          | 0/100 [00:00<?, ?it/s]"
      ]
     },
     "metadata": {},
     "output_type": "display_data"
    },
    {
     "data": {
      "application/vnd.jupyter.widget-view+json": {
       "model_id": "da366d57260d439f889f916a1bc79854",
       "version_major": 2,
       "version_minor": 0
      },
      "text/plain": [
       "Run c9c355dc-ae8f-49d6-8faf-51b89695ff17_c7:   0%|          | 0/100 [00:00<?, ?it/s]"
      ]
     },
     "metadata": {},
     "output_type": "display_data"
    },
    {
     "data": {
      "application/vnd.jupyter.widget-view+json": {
       "model_id": "e1670cf3a3f6499cbce3ae846dfeca74",
       "version_major": 2,
       "version_minor": 0
      },
      "text/plain": [
       "Run c9c355dc-ae8f-49d6-8faf-51b89695ff17_c8:   0%|          | 0/100 [00:00<?, ?it/s]"
      ]
     },
     "metadata": {},
     "output_type": "display_data"
    },
    {
     "data": {
      "application/vnd.jupyter.widget-view+json": {
       "model_id": "2f24292582054275b8c8eec1abe72666",
       "version_major": 2,
       "version_minor": 0
      },
      "text/plain": [
       "Run c9c355dc-ae8f-49d6-8faf-51b89695ff17_c9:   0%|          | 0/100 [00:00<?, ?it/s]"
      ]
     },
     "metadata": {},
     "output_type": "display_data"
    },
    {
     "data": {
      "application/vnd.jupyter.widget-view+json": {
       "model_id": "90945889d0a345c7b9c8198bf98f44bf",
       "version_major": 2,
       "version_minor": 0
      },
      "text/plain": [
       "Run c9c355dc-ae8f-49d6-8faf-51b89695ff17_c10:   0%|          | 0/100 [00:00<?, ?it/s]"
      ]
     },
     "metadata": {},
     "output_type": "display_data"
    },
    {
     "data": {
      "application/vnd.jupyter.widget-view+json": {
       "model_id": "1df3ea32c7194bb8842f374fab55aa46",
       "version_major": 2,
       "version_minor": 0
      },
      "text/plain": [
       "Run c9c355dc-ae8f-49d6-8faf-51b89695ff17_c11:   0%|          | 0/100 [00:00<?, ?it/s]"
      ]
     },
     "metadata": {},
     "output_type": "display_data"
    },
    {
     "data": {
      "application/vnd.jupyter.widget-view+json": {
       "model_id": "f47a9f683b5340828088abc170043f00",
       "version_major": 2,
       "version_minor": 0
      },
      "text/plain": [
       "Run c9c355dc-ae8f-49d6-8faf-51b89695ff17_c12:   0%|          | 0/100 [00:00<?, ?it/s]"
      ]
     },
     "metadata": {},
     "output_type": "display_data"
    },
    {
     "data": {
      "application/vnd.jupyter.widget-view+json": {
       "model_id": "f554fc43f7504e31a64cd398146fa8b2",
       "version_major": 2,
       "version_minor": 0
      },
      "text/plain": [
       "Run c9c355dc-ae8f-49d6-8faf-51b89695ff17_c13:   0%|          | 0/100 [00:00<?, ?it/s]"
      ]
     },
     "metadata": {},
     "output_type": "display_data"
    },
    {
     "data": {
      "application/vnd.jupyter.widget-view+json": {
       "model_id": "b454c4c9ffe6487ab13399a698cea630",
       "version_major": 2,
       "version_minor": 0
      },
      "text/plain": [
       "Run c9c355dc-ae8f-49d6-8faf-51b89695ff17_c14:   0%|          | 0/100 [00:00<?, ?it/s]"
      ]
     },
     "metadata": {},
     "output_type": "display_data"
    },
    {
     "name": "stdout",
     "output_type": "stream",
     "text": [
      "2025-10-20 00:31:45 - neural_mi - INFO - Parameter sweep finished.\n"
     ]
    }
   ],
   "source": [
    "critic_results_smile = nmi.run(\n",
    "    x_data=x_raw, y_data=y_raw,\n",
    "    mode='sweep',\n",
    "    processor_type_x='continuous',\n",
    "    processor_params_x={'window_size': 1},\n",
    "    estimator='smile', estimator_params={'clip': 5},\n",
    "    base_params=base_params,\n",
    "    sweep_grid=sweep_grid,\n",
    "    split_mode='random',  # For IID data\n",
    "    n_workers=1, # Because concat is very costly, running multiple instances of it together will likely crash the device\n",
    "    random_seed=42\n",
    ")"
   ]
  },
  {
   "cell_type": "code",
   "execution_count": 8,
   "metadata": {},
   "outputs": [
    {
     "data": {
      "image/png": "[encoded data removed]",
      "text/plain": [
       "<Figure size 1400x600 with 2 Axes>"
      ]
     },
     "metadata": {},
     "output_type": "display_data"
    }
   ],
   "source": [
    "fig, axes = plt.subplots(1, 2, figsize=(14, 6), sharey=True)\n",
    "\n",
    "sns.barplot(\n",
    "    data=critic_results.dataframe,\n",
    "    x='critic_type',\n",
    "    y='mi_mean',\n",
    "    capsize=0.1,\n",
    "    order=['separable', 'bilinear', 'concat'],\n",
    "    ax=axes[0]\n",
    ")\n",
    "axes[0].set_title('InfoNCE')\n",
    "axes[0].set_ylabel('Estimated MI (bits)')\n",
    "axes[0].set_xlabel('Critic Architecture')\n",
    "axes[0].set_ylim(bottom=0)\n",
    "\n",
    "sns.barplot(\n",
    "    data=critic_results_smile.dataframe,\n",
    "    x='critic_type',\n",
    "    y='mi_mean',\n",
    "    capsize=0.1,\n",
    "    order=['separable', 'bilinear', 'concat'],\n",
    "    ax=axes[1],\n",
    "    color='red'\n",
    ")\n",
    "axes[1].set_title('SMILE')\n",
    "axes[1].set_xlabel('Critic Architecture')\n",
    "axes[1].set_ylim(-0.1, 1.2*critic_results_smile.dataframe.mi_mean.max())\n",
    "\n",
    "plt.tight_layout()\n",
    "plt.show()"
   ]
  },
  {
   "cell_type": "markdown",
   "metadata": {},
   "source": [
    "### The New Result: A Clear Hierarchy\n",
    "\n",
    "The new results show a clear hierarchy in power. The `SeparableCritic` finds the lowest MI. The `BilinearCritic` does better, as its learnable matrix `W` can effectively undo the rotation. The `ConcatCritic`, being the most powerful, also succeeds, achieving a significantly higher MI at the cost of being slower."
   ]
  },
  {
   "cell_type": "markdown",
   "metadata": {},
   "source": [
    "## Conclusion and Recommendations\n",
    "\n",
    "Choosing the right architecture and estimator is a trade-off. Here's a simple guide to get started:\n",
    "\n",
    "> **Recommendation:** Always start with the default: a **`SeparableCritic`** and the **`InfoNCE`** estimator. This combination is fast, stable, and works for a wide variety of problems.\n",
    "\n",
    "- If you have reason to suspect a complex, non-linear relationship (like a rotation or other geometric transformation), try the **`BilinearCritic`**. It offers a significant power boost without the high cost of the `ConcatCritic`.\n",
    "\n",
    "- If you are estimating the internal dimensionality of a system (`mode='dimensionality'`) or have other reasons to believe the true MI is very high, switch to the **`SMILE`** estimator to get a less biased result.\n",
    "\n",
    "With these guidelines, you are now equipped to make informed decisions about the core components of your MI analysis. In the next tutorial, we will tackle the final and most important step for scientific rigor: correcting for finite-sampling bias to get a statstically sound result.\n",
    "\n",
    "*A note*: While the theoretical bound of `InfoNCE` is `log(batch_size)`, this is the case during the *training*. i.e., we should never see an MI value when we're training the estimator that exceeds this bound. However, when evaluating on the whole dataset, the MI value can be bigger, as now the batch size is bigger."
   ]
  }
 ],
 "metadata": {
  "kernelspec": {
   "display_name": "Python [conda env:base] *",
   "language": "python",
   "name": "conda-base-py"
  },
  "language_info": {
   "codemirror_mode": {
    "name": "ipython",
    "version": 3
   },
   "file_extension": ".py",
   "mimetype": "text/x-python",
   "name": "python",
   "nbconvert_exporter": "python",
   "pygments_lexer": "ipython3",
   "version": "3.11.13"
  }
 },
 "nbformat": 4,
 "nbformat_minor": 4
}
